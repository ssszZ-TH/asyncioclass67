{
 "cells": [
  {
   "cell_type": "code",
   "execution_count": 1,
   "metadata": {},
   "outputs": [
    {
     "name": "stdout",
     "output_type": "stream",
     "text": [
      "1 2 3 4 5\n"
     ]
    }
   ],
   "source": [
    "## demo this to check how corutine gather(*[coro1, coro2, coro3]) work\n",
    "\n",
    "a = ([1,2,3,4,5])\n",
    "print(*a)"
   ]
  },
  {
   "cell_type": "code",
   "execution_count": null,
   "metadata": {},
   "outputs": [],
   "source": [
    "# normal .py file must run like this\n",
    "\n",
    "# import asyncio\n",
    "\n",
    "# async def main():\n",
    "#     print('beforeSleep')\n",
    "#     await asyncio.sleep(1)\n",
    "#     print('afterSleep')\n",
    "    \n",
    "# asyncio.run(main())"
   ]
  },
  {
   "cell_type": "code",
   "execution_count": 5,
   "metadata": {},
   "outputs": [
    {
     "data": {
      "text/plain": [
       "<Task pending name='Task-6' coro=<main() running at C:\\Users\\ssszz\\AppData\\Local\\Temp\\ipykernel_16668\\3300728072.py:4>>"
      ]
     },
     "execution_count": 5,
     "metadata": {},
     "output_type": "execute_result"
    },
    {
     "name": "stdout",
     "output_type": "stream",
     "text": [
      "beforeSleep\n",
      "afterSleep\n"
     ]
    }
   ],
   "source": [
    "## in jupyter notebook you must do this do run async function\n",
    "import asyncio\n",
    "\n",
    "async def main():\n",
    "    print('beforeSleep')\n",
    "    await asyncio.sleep(1)\n",
    "    print('afterSleep')\n",
    "    \n",
    "loop = asyncio.get_event_loop()\n",
    "loop.create_task(main())"
   ]
  },
  {
   "cell_type": "code",
   "execution_count": 3,
   "metadata": {},
   "outputs": [
    {
     "data": {
      "text/plain": [
       "<_WindowsSelectorEventLoop running=True closed=False debug=False>"
      ]
     },
     "execution_count": 3,
     "metadata": {},
     "output_type": "execute_result"
    }
   ],
   "source": [
    "asyncio.get_running_loop()"
   ]
  },
  {
   "cell_type": "code",
   "execution_count": 14,
   "metadata": {},
   "outputs": [
    {
     "data": {
      "text/plain": [
       "<Task pending name='Task-17' coro=<main() running at C:\\Users\\ssszz\\AppData\\Local\\Temp\\ipykernel_16668\\2548138337.py:4>>"
      ]
     },
     "execution_count": 14,
     "metadata": {},
     "output_type": "execute_result"
    },
    {
     "name": "stdout",
     "output_type": "stream",
     "text": [
      "before coroutine\n",
      "beforeSleep\n",
      "afterSleep\n",
      "after coroutine\n"
     ]
    }
   ],
   "source": [
    "## blocking io so slow\n",
    "import asyncio\n",
    "\n",
    "async def main():\n",
    "    print('before coroutine')\n",
    "    await other_coroutine()\n",
    "    print('after coroutine')\n",
    "    \n",
    "async def other_coroutine():\n",
    "    print('beforeSleep')\n",
    "    await asyncio.sleep(1)\n",
    "    print('afterSleep')\n",
    "\n",
    "loop = asyncio.get_event_loop()\n",
    "loop.create_task(main())"
   ]
  },
  {
   "cell_type": "code",
   "execution_count": 23,
   "metadata": {},
   "outputs": [
    {
     "data": {
      "text/plain": [
       "<Task pending name='Task-34' coro=<main() running at C:\\Users\\ssszz\\AppData\\Local\\Temp\\ipykernel_16668\\4057724740.py:4>>"
      ]
     },
     "execution_count": 23,
     "metadata": {},
     "output_type": "execute_result"
    },
    {
     "name": "stdout",
     "output_type": "stream",
     "text": [
      "before coroutine\n",
      "after coroutine\n",
      "beforeSleep\n",
      "afterSleep\n"
     ]
    }
   ],
   "source": [
    "## non blocking io not wait for other coroutine to complete\n",
    "import asyncio\n",
    "\n",
    "async def main():\n",
    "    task =  asyncio.create_task(other_coroutine())\n",
    "    print('before coroutine')\n",
    "    print('after coroutine')\n",
    "    \n",
    "async def other_coroutine():\n",
    "    print('beforeSleep')\n",
    "    await asyncio.sleep(1)\n",
    "    print('afterSleep')\n",
    "\n",
    "loop = asyncio.get_event_loop()\n",
    "loop.create_task(main())"
   ]
  },
  {
   "cell_type": "code",
   "execution_count": 24,
   "metadata": {},
   "outputs": [
    {
     "data": {
      "text/plain": [
       "<Task pending name='Task-36' coro=<main() running at C:\\Users\\ssszz\\AppData\\Local\\Temp\\ipykernel_16668\\3115258031.py:4>>"
      ]
     },
     "execution_count": 24,
     "metadata": {},
     "output_type": "execute_result"
    },
    {
     "name": "stdout",
     "output_type": "stream",
     "text": [
      "before coroutine\n",
      "beforeSleep\n",
      "afterSleep\n",
      "after coroutine\n"
     ]
    }
   ],
   "source": [
    "## this is how to wait task\n",
    "import asyncio\n",
    "\n",
    "async def main():\n",
    "    task =  asyncio.create_task(other_coroutine())\n",
    "    print('before coroutine')\n",
    "    await task\n",
    "    print('after coroutine')\n",
    "    \n",
    "async def other_coroutine():\n",
    "    print('beforeSleep')\n",
    "    await asyncio.sleep(1)\n",
    "    print('afterSleep')\n",
    "\n",
    "loop = asyncio.get_event_loop()\n",
    "loop.create_task(main())"
   ]
  }
 ],
 "metadata": {
  "kernelspec": {
   "display_name": "Python 3",
   "language": "python",
   "name": "python3"
  },
  "language_info": {
   "codemirror_mode": {
    "name": "ipython",
    "version": 3
   },
   "file_extension": ".py",
   "mimetype": "text/x-python",
   "name": "python",
   "nbconvert_exporter": "python",
   "pygments_lexer": "ipython3",
   "version": "3.11.7"
  }
 },
 "nbformat": 4,
 "nbformat_minor": 2
}
